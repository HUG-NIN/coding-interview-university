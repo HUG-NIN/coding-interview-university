{
  "nbformat": 4,
  "nbformat_minor": 0,
  "metadata": {
    "colab": {
      "provenance": [],
      "authorship_tag": "ABX9TyP3A92gvPOoMI1xXGIqKvPk",
      "include_colab_link": true
    },
    "kernelspec": {
      "name": "python3",
      "display_name": "Python 3"
    },
    "language_info": {
      "name": "python"
    }
  },
  "cells": [
    {
      "cell_type": "markdown",
      "metadata": {
        "id": "view-in-github",
        "colab_type": "text"
      },
      "source": [
        "<a href=\"https://colab.research.google.com/github/HUG-NIN/coding-interview-university/blob/main/nmap_alanalyst.ipynb\" target=\"_parent\"><img src=\"https://colab.research.google.com/assets/colab-badge.svg\" alt=\"Open In Colab\"/></a>"
      ]
    },
    {
      "cell_type": "markdown",
      "source": [
        "Activity Report: Network Scanning and Vulnerability Analysis\n",
        "Objective\n",
        "To perform a network scan using Nmap to identify open ports and potential vulnerabilities on the web server of the domain www.mindefensa.gob.ve. This activity was carried out in a Linux environment using Bash and Python, aiming to develop practical cybersecurity skills.\n",
        "\n",
        "Work Environment\n",
        "Operating System: Linux (Debian/Ubuntu)\n",
        "Tools Used:\n",
        "Bash: For executing commands in the terminal.\n",
        "Python: For creating scripts to process Nmap results.\n",
        "Nmap: Used for network scanning and running vulnerability scripts.\n",
        "Visual Studio Code: Used to edit and execute Python scripts.\n",
        "Procedure\n",
        "Installation of a Python Virtual Environment:\n",
        "\n",
        "Objective: Create a virtual environment to install and manage Python packages without interfering with the system.\n",
        "Commands Used"
      ],
      "metadata": {
        "id": "x4qIwJj8DDjb"
      }
    },
    {
      "cell_type": "code",
      "execution_count": null,
      "metadata": {
        "id": "uYbjM_vODCR5"
      },
      "outputs": [],
      "source": [
        "sudo apt install python3.11-venv\n",
        "python3 -m venv myenv\n",
        "source myenv/bin/activate\n",
        "pip install python-nmap\n"
      ]
    },
    {
      "cell_type": "markdown",
      "source": [
        "Result: The virtual environment was successfully created, and the python-nmap package was installed to use Nmap from Python.\n",
        "Creating a Python Script for Network Scanning:\n",
        "\n",
        "Objective: Create a Python script that uses Nmap to scan ports and generate a detailed report.\n",
        "Commands Used"
      ],
      "metadata": {
        "id": "6JuVyEhlDJ0F"
      }
    },
    {
      "cell_type": "code",
      "source": [
        "vim nmap_scan.py\n",
        "python nmap_scan.py\n"
      ],
      "metadata": {
        "id": "v-MN3Ni6DJLt"
      },
      "execution_count": null,
      "outputs": []
    },
    {
      "cell_type": "markdown",
      "source": [
        "Script Content"
      ],
      "metadata": {
        "id": "V-rhZ2iDDRTE"
      }
    },
    {
      "cell_type": "code",
      "source": [
        "import nmap\n",
        "\n",
        "nm = nmap.PortScanner()\n",
        "\n",
        "print(\"Nmap Scan:\")\n",
        "scan_data = nm.scan('200.109.228.5', '22-443')\n",
        "for host in nm.all_hosts():\n",
        "    print(f\"Host: {host} ({nm[host].hostname()})\")\n",
        "    print(f\"Host state: {nm[host].state()}\")\n",
        "    for protocol in nm[host].all_protocols():\n",
        "        print(f\"Protocol: {protocol}\")\n",
        "        lport = nm[host][protocol].keys()\n",
        "        for port in lport:\n",
        "            print(f\"Port: {port}\\t State: {nm[host][protocol][port]['state']}\")\n",
        "            if 'product' in nm[host][protocol][port]:\n",
        "                print(f\"  Service: {nm[host][protocol][port]['name']}\")\n",
        "                print(f\"  Version: {nm[host][protocol][port]['version']}\")\n"
      ],
      "metadata": {
        "id": "7KwivriFDUrU"
      },
      "execution_count": null,
      "outputs": []
    },
    {
      "cell_type": "markdown",
      "source": [
        "Result: The script successfully identified open ports and associated services on the target domain.\n",
        "Running Nmap to Detect Vulnerabilities:\n",
        "\n",
        "Objective: Use Nmap to identify potential vulnerabilities in the detected services.\n",
        "Commands Used"
      ],
      "metadata": {
        "id": "BEQPB47tDZx6"
      }
    },
    {
      "cell_type": "markdown",
      "source": [
        "nmap --script vuln 200.109.228.5\n"
      ],
      "metadata": {
        "id": "D7vF9ehuDoGZ"
      }
    },
    {
      "cell_type": "markdown",
      "source": [
        "Result: Several vulnerabilities were found, notably a potential vulnerability on port 8080 related to a Slowloris Denial of Service (DoS) attack.\n",
        "Scan Results\n",
        "Open Ports:\n",
        "\n",
        "22/tcp (SSH): Open, no vulnerabilities detected.\n",
        "53/tcp (DNS): Open, no vulnerabilities detected.\n",
        "80/tcp (HTTP): Open, a potentially interesting folder (/correo/) was found, but no critical vulnerabilities were detected.\n",
        "443/tcp (HTTPS): Open, no critical vulnerabilities found.\n",
        "8080/tcp (HTTP Proxy): Open, vulnerable to a Slowloris attack.\n",
        "Detected Vulnerabilities:\n",
        "\n",
        "Slowloris (CVE-2007-6750): The web server on port 8080 may be vulnerable to a Denial of Service (DoS) attack.\n",
        "Conclusion\n",
        "The network scan revealed several open ports on the target server, with a possible risk associated with port 8080 due to the Slowloris vulnerability. This report can be used as a practical example of cybersecurity to demonstrate skills in vulnerability detection and the use of tools like Nmap and Python.\n",
        "\n",
        "Commands Used"
      ],
      "metadata": {
        "id": "dc7dSBRmD0OR"
      }
    },
    {
      "cell_type": "code",
      "source": [
        "# Installing the virtual environment and packages\n",
        "sudo apt install python3.11-venv\n",
        "python3 -m venv myenv\n",
        "source myenv/bin/activate\n",
        "pip install python-nmap\n",
        "\n",
        "# Creating and running the Python script\n",
        "vim nmap_scan.py\n",
        "python nmap_scan.py\n",
        "\n",
        "# Running Nmap to scan for vulnerabilities\n",
        "nmap --script vuln 200.109.228.5\n"
      ],
      "metadata": {
        "id": "Vvmfxh3lD3an"
      },
      "execution_count": null,
      "outputs": []
    },
    {
      "cell_type": "markdown",
      "source": [
        "\n",
        "\"This type of code for investigating potential vulnerabilities on the web can be scaled and adjusted for various uses and functions as needed.\"\n",
        "\n",
        "\n",
        "\n",
        "\n",
        "\n",
        "\n"
      ],
      "metadata": {
        "id": "Xsi_tg4VD6JA"
      }
    }
  ]
}