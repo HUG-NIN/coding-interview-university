{
  "nbformat": 4,
  "nbformat_minor": 0,
  "metadata": {
    "colab": {
      "provenance": [],
      "authorship_tag": "ABX9TyNV1Mvsz6yXex7GfLwxCsee",
      "include_colab_link": true
    },
    "kernelspec": {
      "name": "python3",
      "display_name": "Python 3"
    },
    "language_info": {
      "name": "python"
    }
  },
  "cells": [
    {
      "cell_type": "markdown",
      "metadata": {
        "id": "view-in-github",
        "colab_type": "text"
      },
      "source": [
        "<a href=\"https://colab.research.google.com/github/HUG-NIN/coding-interview-university/blob/main/Proyect_python.ipynb\" target=\"_parent\"><img src=\"https://colab.research.google.com/assets/colab-badge.svg\" alt=\"Open In Colab\"/></a>"
      ]
    },
    {
      "cell_type": "markdown",
      "source": [
        "# How star the car with conditional?*:"
      ],
      "metadata": {
        "id": "1cEgj0mrgGcw"
      }
    },
    {
      "cell_type": "markdown",
      "source": [
        "# Este ejercisio se puede complicar tanto como queramos **☣**"
      ],
      "metadata": {
        "id": "WEiy7Hkcjusl"
      }
    },
    {
      "cell_type": "code",
      "source": [
        "edad = 15\n",
        "encendido = True\n",
        "gas = True\n",
        "low_gas = False\n",
        "\n",
        "if not gas and edad > 17 or encendido:\n",
        "  print(\"¡Imposible! No puedes avanzar sin gasolina.   \", \"\\n O No tienes la edad suficiente \")\n",
        "elif encendido and low_gas:\n",
        "    print(\"El tanque está bajo. Necesitas cargar combustible.\")\n",
        "else:\n",
        "      print(\"Puedes continuar tu viaje.\")\n"
      ],
      "metadata": {
        "colab": {
          "base_uri": "https://localhost:8080/"
        },
        "id": "gcgpZ5vSfHWR",
        "outputId": "032c222f-e776-4f99-8c27-401c5a2a158c"
      },
      "execution_count": 10,
      "outputs": [
        {
          "output_type": "stream",
          "name": "stdout",
          "text": [
            "¡Imposible! No puedes avanzar sin gasolina.    \n",
            " O No tienes la edad suficiente \n"
          ]
        }
      ]
    },
    {
      "cell_type": "markdown",
      "source": [
        "# ***How to check if what we have here is a palindrome***\n",
        "⛴\\\n"
      ],
      "metadata": {
        "id": "9las9dNmj6BB"
      }
    },
    {
      "cell_type": "code",
      "source": [
        "def is_palindrome(word):\n",
        "    word = word.lower().replace(\" \", \"\")\n",
        "    return word == word[::-1]\n",
        "\n",
        "word = input(\"Enter a word: \")\n",
        "if is_palindrome(word):\n",
        "    print(f\"{word} is a palindrome.\")\n",
        "else:\n",
        "    print(f\"{word} is not a palindrome.\")\n",
        "\n"
      ],
      "metadata": {
        "colab": {
          "base_uri": "https://localhost:8080/"
        },
        "id": "EoYBKjlp6KDv",
        "outputId": "36008586-7d85-4fd0-cb20-37615380aabc"
      },
      "execution_count": 12,
      "outputs": [
        {
          "output_type": "stream",
          "name": "stdout",
          "text": [
            "Enter a word: ama la paloma\n",
            "ama la paloma is not a palindrome.\n"
          ]
        }
      ]
    },
    {
      "cell_type": "code",
      "source": [
        "def es_palindromo(cadena):\n",
        "    # Convertir la cadena a minúsculas y eliminar espacios en blanco\n",
        "    cadena = cadena.lower().replace(\" \", \"\")\n",
        "    n = len(cadena)\n",
        "\n",
        "    for i in range(n // 2):\n",
        "        if cadena[i] != cadena[n - i - 1]:\n",
        "            return False\n",
        "    return True\n",
        "\n",
        "cadena = input(\"Ingrese una cadena de texto: \")\n",
        "if es_palindromo(cadena):\n",
        "    print(f\"{cadena} es un palíndromo.\")\n",
        "else:\n",
        "    print(f\"{cadena} no es un palíndromo.\")"
      ],
      "metadata": {
        "colab": {
          "base_uri": "https://localhost:8080/"
        },
        "id": "VlnMo2r9_tjg",
        "outputId": "8a682c08-cdc0-4c33-bb02-e116087bd249"
      },
      "execution_count": 14,
      "outputs": [
        {
          "output_type": "stream",
          "name": "stdout",
          "text": [
            "Ingrese una cadena de texto: amoa amama\n",
            "amoa amama no es un palíndromo.\n"
          ]
        }
      ]
    },
    {
      "cell_type": "markdown",
      "source": [
        "## *its time to go futher more now!!! star to working with Lists!!!\n",
        "\n",
        "\n",
        "unpack the list\n",
        "\n"
      ],
      "metadata": {
        "id": "NF1cioUA_uK1"
      }
    },
    {
      "cell_type": "code",
      "source": [
        "numeros = [1, 2, 3, 4, 5]\n",
        "\n",
        "primero, *otros=numeros\n",
        "\n",
        "print(primero)\n",
        "print(otros)"
      ],
      "metadata": {
        "colab": {
          "base_uri": "https://localhost:8080/"
        },
        "id": "zTAOc3ZcFtxq",
        "outputId": "b4de9009-4f5e-406f-a9c8-88d6388c1bbb"
      },
      "execution_count": 15,
      "outputs": [
        {
          "output_type": "stream",
          "name": "stdout",
          "text": [
            "1\n",
            "[2, 3, 4, 5]\n"
          ]
        }
      ]
    }
  ]
}